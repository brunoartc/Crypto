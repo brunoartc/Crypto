{
 "cells": [
  {
   "cell_type": "code",
   "execution_count": null,
   "id": "62f3fe18-1017-4c77-8c8e-e6225ec8cbb0",
   "metadata": {},
   "outputs": [],
   "source": [
    "import pandas as pd"
   ]
  },
  {
   "cell_type": "code",
   "execution_count": null,
   "id": "2012758b-dc29-4229-99f1-96ce9aa2ca78",
   "metadata": {},
   "outputs": [],
   "source": [
    "import json\n",
    "import pytz\n",
    "import numpy as np\n",
    "\n",
    "from urllib.parse import urlparse\n",
    "from datetime import datetime\n",
    "from token_info import get_candles_poo_coin\n",
    "\n",
    "UTC = pytz.timezone('UTC')"
   ]
  },
  {
   "cell_type": "code",
   "execution_count": null,
   "id": "c26e8816-f29c-4e07-bc1e-a964ae5a486b",
   "metadata": {},
   "outputs": [],
   "source": [
    "#https://www.regextester.com/96504"
   ]
  },
  {
   "cell_type": "code",
   "execution_count": null,
   "id": "a96ab314-95fb-43fc-b2d5-e980235124f4",
   "metadata": {},
   "outputs": [],
   "source": [
    "with open(\"data/corpus_v2.json\", \"r\") as f:\n",
    "    data = json.load(f)"
   ]
  },
  {
   "cell_type": "code",
   "execution_count": null,
   "id": "8128997c-1179-4f84-9306-fbdaf799683e",
   "metadata": {},
   "outputs": [],
   "source": [
    "import re\n",
    "hash_pattern = re.compile(r\"0x[0-9A-Fa-f]{40}\\b\", re.DOTALL)\n",
    "ticker_pattern = re.compile(r\"\\$[A-Za-z]+\", re.DOTALL)\n",
    "markdown_url_pattern = re.compile(r\"(?:\\[.*?\\])\\((.*?)\\)\", re.DOTALL)\n",
    "url_pattern = re.compile(r\"http[s]?:\\/\\/(?:[a-zA-Z]|[0-9]|[$-_@.&+#]|[!*\\(\\),]|(?:%[0-9a-fA-F][0-9a-fA-F]))+\")\n",
    "accepted_domains = set([\"exchange.pancakeswap.finance\", \"bscscan.com\", \"dextools.io\"])"
   ]
  },
  {
   "cell_type": "code",
   "execution_count": null,
   "id": "c4f27344-305c-448f-9f6e-3bcbfd9bc80c",
   "metadata": {},
   "outputs": [],
   "source": [
    "    \n",
    "def normalize_hashes(hashes):\n",
    "    if hashes is None:\n",
    "        return []\n",
    "    \n",
    "    return set([_hash.lower() for _hash in hashes])\n",
    "\n",
    "def is_url_allowed(url):\n",
    "    try:\n",
    "        parsed = urlparse(url)\n",
    "        hostname = parsed.hostname\n",
    "        return hostname in accepted_domains\n",
    "    except Exception as e:\n",
    "        return False\n",
    "\n",
    "def filter_urls(urls):\n",
    "    return [url for url in urls if is_url_allowed(url)]\n",
    "\n",
    "def parse_hashes_from_urls(urls):\n",
    "    \n",
    "    hashes = set()\n",
    "    for url in urls:\n",
    "        _hash = hash_pattern.search(url)\n",
    "        \n",
    "        if _hash is not None:\n",
    "            hashes.add(_hash.group(0))\n",
    "    return normalize_hashes(hashes)\n",
    "\n",
    "def parse_hashes_from_submission(submission):\n",
    "    text = submission[\"text\"]\n",
    "    title = submission[\"title\"]\n",
    "\n",
    "    hashes = normalize_hashes(hash_pattern.findall(text))\n",
    "    tickers = set(ticker_pattern.findall(title))\n",
    "    tickers = tickers.update(ticker_pattern.findall(text))\n",
    "    \n",
    "    if len(hashes) == 0:\n",
    "        return set()\n",
    "        \n",
    "    urls = markdown_url_pattern.findall(text)\n",
    "    if len(urls) == 0:\n",
    "        urls = url_pattern.findall(text)\n",
    "        \n",
    "    filtered_urls = filter_urls(urls)\n",
    "        \n",
    "    urls_hashes = parse_hashes_from_urls(filtered_urls)\n",
    "    \n",
    "    if len(urls_hashes) == 1:\n",
    "        return urls_hashes\n",
    "    elif len(urls_hashes) == 0 and len(hashes) == 1:\n",
    "        return hashes\n",
    "    elif len(hashes) > 0:\n",
    "        return hashes\n",
    "\n",
    "def is_response_valid(payload):\n",
    "    return payload.get(\"errors\") is None"
   ]
  },
  {
   "cell_type": "code",
   "execution_count": null,
   "id": "a912c562-70c9-4c42-9af3-a1ccbdd14ee0",
   "metadata": {},
   "outputs": [],
   "source": [
    "try:\n",
    "    with open(\"data/series_v2.json\", \"r\") as f:\n",
    "        series = json.load(f)\n",
    "except:\n",
    "    series = {}"
   ]
  },
  {
   "cell_type": "code",
   "execution_count": null,
   "id": "4f90ac44-62b9-4849-869c-ebe2b65333bf",
   "metadata": {},
   "outputs": [],
   "source": [
    "import time\n",
    "from tqdm import tqdm\n",
    "\n",
    "should_brake = False\n",
    "for submission in tqdm(data):\n",
    "    delay = False\n",
    "    _id = submission[\"id\"]\n",
    "    \n",
    "    if series.get(_id, {}).get(\"base_token\") is not None:\n",
    "        continue\n",
    "\n",
    "    end_time = datetime.now(UTC)\n",
    "    init_time = datetime.fromtimestamp(submission[\"created_utc\"], UTC)\n",
    "    \n",
    "    hashes = parse_hashes_from_submission(submission)\n",
    "    \n",
    "    payload = {}\n",
    "    \n",
    "    for base_token in hashes:\n",
    "        \n",
    "        response = get_candles_poo_coin(base_token, init_time=init_time, end_time=end_time)\n",
    "        if not is_response_valid(response):\n",
    "            time.sleep(5)\n",
    "            print(\"trying again\")\n",
    "            continue\n",
    "            \n",
    "        delay = True\n",
    "        payload[\"series\"] = response\n",
    "        payload[\"base_token\"] = base_token\n",
    "        \n",
    "    series[_id] = payload\n",
    "    \n",
    "    if delay:\n",
    "        time.sleep(5)"
   ]
  },
  {
   "cell_type": "code",
   "execution_count": null,
   "id": "da577a86-2ee3-461d-804e-c25c692b923f",
   "metadata": {},
   "outputs": [],
   "source": [
    "with open(\"data/series_v2.json\", \"w\") as f:\n",
    "    json.dump(series, f)"
   ]
  },
  {
   "cell_type": "code",
   "execution_count": null,
   "id": "2910032b-3ebe-4e33-b3f4-8454de710db0",
   "metadata": {},
   "outputs": [],
   "source": []
  }
 ],
 "metadata": {
  "kernelspec": {
   "display_name": "Python 3",
   "language": "python",
   "name": "python3"
  },
  "language_info": {
   "codemirror_mode": {
    "name": "ipython",
    "version": 3
   },
   "file_extension": ".py",
   "mimetype": "text/x-python",
   "name": "python",
   "nbconvert_exporter": "python",
   "pygments_lexer": "ipython3",
   "version": "3.8.5"
  }
 },
 "nbformat": 4,
 "nbformat_minor": 5
}
