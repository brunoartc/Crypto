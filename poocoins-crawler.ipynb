{
 "cells": [
  {
   "cell_type": "code",
   "execution_count": 1,
   "id": "62f3fe18-1017-4c77-8c8e-e6225ec8cbb0",
   "metadata": {},
   "outputs": [],
   "source": [
    "import pandas as pd"
   ]
  },
  {
   "cell_type": "code",
   "execution_count": 2,
   "id": "2012758b-dc29-4229-99f1-96ce9aa2ca78",
   "metadata": {},
   "outputs": [],
   "source": [
    "import json\n",
    "import pytz\n",
    "import numpy as np\n",
    "\n",
    "from urllib.parse import urlparse\n",
    "from datetime import datetime\n",
    "from token_info import get_candles_poo_coin\n",
    "import matplotlib.pyplot as plt\n",
    "\n",
    "UTC = pytz.timezone('UTC')"
   ]
  },
  {
   "cell_type": "code",
   "execution_count": 3,
   "id": "c26e8816-f29c-4e07-bc1e-a964ae5a486b",
   "metadata": {},
   "outputs": [],
   "source": [
    "#https://www.regextester.com/96504"
   ]
  },
  {
   "cell_type": "code",
   "execution_count": 4,
   "id": "a96ab314-95fb-43fc-b2d5-e980235124f4",
   "metadata": {},
   "outputs": [],
   "source": [
    "with open(\"data/corpus_v3.json\", \"r\") as f:\n",
    "    data = json.load(f)"
   ]
  },
  {
   "cell_type": "code",
   "execution_count": 5,
   "id": "8128997c-1179-4f84-9306-fbdaf799683e",
   "metadata": {},
   "outputs": [],
   "source": [
    "import re\n",
    "hash_pattern = re.compile(r\"0x[0-9A-Fa-f]{40}\\b\", re.DOTALL)\n",
    "ticker_pattern = re.compile(r\"\\$[A-Za-z]+\", re.DOTALL)\n",
    "markdown_url_pattern = re.compile(r\"(?:\\[.*?\\])\\((.*?)\\)\", re.DOTALL)\n",
    "url_pattern = re.compile(r\"http[s]?:\\/\\/(?:[a-zA-Z]|[0-9]|[$-_@.&+#]|[!*\\(\\),]|(?:%[0-9a-fA-F][0-9a-fA-F]))+\")\n",
    "accepted_domains = set([\"exchange.pancakeswap.finance\", \"bscscan.com\", \"dextools.io\"])"
   ]
  },
  {
   "cell_type": "code",
   "execution_count": 6,
   "id": "c4f27344-305c-448f-9f6e-3bcbfd9bc80c",
   "metadata": {},
   "outputs": [],
   "source": [
    "    \n",
    "def normalize_hashes(hashes):\n",
    "    if hashes is None:\n",
    "        return []\n",
    "    \n",
    "    return set([_hash.lower() for _hash in hashes])\n",
    "\n",
    "def is_url_allowed(url):\n",
    "    try:\n",
    "        parsed = urlparse(url)\n",
    "        hostname = parsed.hostname\n",
    "        return hostname in accepted_domains\n",
    "    except Exception as e:\n",
    "        return False\n",
    "\n",
    "def filter_urls(urls):\n",
    "    return [url for url in urls if is_url_allowed(url)]\n",
    "\n",
    "def parse_hashes_from_urls(urls):\n",
    "    \n",
    "    hashes = set()\n",
    "    for url in urls:\n",
    "        _hash = hash_pattern.search(url)\n",
    "        \n",
    "        if _hash is not None:\n",
    "            hashes.add(_hash.group(0))\n",
    "    return normalize_hashes(hashes)\n",
    "\n",
    "def parse_hashes_from_submission(submission):\n",
    "    text = submission[\"text\"]\n",
    "    title = submission[\"title\"]\n",
    "\n",
    "    hashes = normalize_hashes(hash_pattern.findall(text))\n",
    "    tickers = set(ticker_pattern.findall(title))\n",
    "    tickers = tickers.update(ticker_pattern.findall(text))\n",
    "    \n",
    "    if len(hashes) == 0:\n",
    "        return set()\n",
    "        \n",
    "    urls = markdown_url_pattern.findall(text)\n",
    "    if len(urls) == 0:\n",
    "        urls = url_pattern.findall(text)\n",
    "        \n",
    "    filtered_urls = filter_urls(urls)\n",
    "        \n",
    "    urls_hashes = parse_hashes_from_urls(filtered_urls)\n",
    "    \n",
    "    if len(urls_hashes) == 1:\n",
    "        return urls_hashes\n",
    "    elif len(urls_hashes) == 0 and len(hashes) == 1:\n",
    "        return hashes\n",
    "    elif len(hashes) > 0:\n",
    "        return hashes\n",
    "\n",
    "def is_response_valid(payload):\n",
    "    return payload.get(\"errors\") is None"
   ]
  },
  {
   "cell_type": "code",
   "execution_count": 7,
   "id": "a912c562-70c9-4c42-9af3-a1ccbdd14ee0",
   "metadata": {},
   "outputs": [],
   "source": [
    "try:\n",
    "    with open(\"data/series_v3.json\", \"r\") as f:\n",
    "        series = json.load(f)\n",
    "except:\n",
    "    series = {}"
   ]
  },
  {
   "cell_type": "code",
   "execution_count": 8,
   "id": "a9e8b076-b63f-4a87-b75f-fe9d8c076519",
   "metadata": {},
   "outputs": [
    {
     "name": "stderr",
     "output_type": "stream",
     "text": [
      "  3%|▎         | 24/713 [01:43<51:50,  4.51s/it]  "
     ]
    },
    {
     "name": "stdout",
     "output_type": "stream",
     "text": [
      "trying again\n"
     ]
    },
    {
     "name": "stderr",
     "output_type": "stream",
     "text": [
      "  9%|▊         | 61/713 [04:20<35:45,  3.29s/it]  "
     ]
    },
    {
     "name": "stdout",
     "output_type": "stream",
     "text": [
      "trying again\n"
     ]
    },
    {
     "name": "stderr",
     "output_type": "stream",
     "text": [
      "  9%|▉         | 64/713 [04:43<57:11,  5.29s/it]"
     ]
    },
    {
     "name": "stdout",
     "output_type": "stream",
     "text": [
      "trying again\n",
      "trying again\n"
     ]
    },
    {
     "name": "stderr",
     "output_type": "stream",
     "text": [
      "  9%|▉         | 65/713 [04:54<1:14:07,  6.86s/it]"
     ]
    },
    {
     "name": "stdout",
     "output_type": "stream",
     "text": [
      "trying again\n"
     ]
    },
    {
     "name": "stderr",
     "output_type": "stream",
     "text": [
      " 11%|█         | 76/713 [05:34<48:56,  4.61s/it]  "
     ]
    },
    {
     "name": "stdout",
     "output_type": "stream",
     "text": [
      "trying again\n"
     ]
    },
    {
     "name": "stderr",
     "output_type": "stream",
     "text": [
      " 13%|█▎        | 94/713 [06:46<35:04,  3.40s/it]"
     ]
    },
    {
     "name": "stdout",
     "output_type": "stream",
     "text": [
      "trying again\n"
     ]
    },
    {
     "name": "stderr",
     "output_type": "stream",
     "text": [
      " 17%|█▋        | 120/713 [08:15<41:55,  4.24s/it]"
     ]
    },
    {
     "name": "stdout",
     "output_type": "stream",
     "text": [
      "trying again\n"
     ]
    },
    {
     "name": "stderr",
     "output_type": "stream",
     "text": [
      " 18%|█▊        | 129/713 [09:03<54:24,  5.59s/it]"
     ]
    },
    {
     "name": "stdout",
     "output_type": "stream",
     "text": [
      "trying again\n",
      "trying again\n",
      "trying again\n"
     ]
    },
    {
     "name": "stderr",
     "output_type": "stream",
     "text": [
      " 19%|█▊        | 132/713 [09:44<1:28:24,  9.13s/it]"
     ]
    },
    {
     "name": "stdout",
     "output_type": "stream",
     "text": [
      "trying again\n"
     ]
    },
    {
     "name": "stderr",
     "output_type": "stream",
     "text": [
      " 19%|█▊        | 133/713 [09:55<1:35:38,  9.89s/it]"
     ]
    },
    {
     "name": "stdout",
     "output_type": "stream",
     "text": [
      "trying again\n"
     ]
    },
    {
     "name": "stderr",
     "output_type": "stream",
     "text": [
      " 19%|█▉        | 138/713 [10:28<1:08:43,  7.17s/it]"
     ]
    },
    {
     "name": "stdout",
     "output_type": "stream",
     "text": [
      "trying again\n"
     ]
    },
    {
     "name": "stderr",
     "output_type": "stream",
     "text": [
      " 19%|█▉        | 139/713 [10:40<1:21:16,  8.50s/it]"
     ]
    },
    {
     "name": "stdout",
     "output_type": "stream",
     "text": [
      "trying again\n"
     ]
    },
    {
     "name": "stderr",
     "output_type": "stream",
     "text": [
      " 20%|█▉        | 142/713 [10:53<59:31,  6.25s/it]  "
     ]
    },
    {
     "name": "stdout",
     "output_type": "stream",
     "text": [
      "trying again\n"
     ]
    },
    {
     "name": "stderr",
     "output_type": "stream",
     "text": [
      " 20%|██        | 144/713 [11:06<59:00,  6.22s/it]"
     ]
    },
    {
     "name": "stdout",
     "output_type": "stream",
     "text": [
      "trying again\n"
     ]
    },
    {
     "name": "stderr",
     "output_type": "stream",
     "text": [
      " 21%|██        | 151/713 [11:31<37:05,  3.96s/it]"
     ]
    },
    {
     "name": "stdout",
     "output_type": "stream",
     "text": [
      "trying again\n"
     ]
    },
    {
     "name": "stderr",
     "output_type": "stream",
     "text": [
      " 24%|██▍       | 172/713 [13:07<52:56,  5.87s/it]"
     ]
    },
    {
     "name": "stdout",
     "output_type": "stream",
     "text": [
      "trying again\n",
      "trying again\n",
      "trying again\n"
     ]
    },
    {
     "name": "stderr",
     "output_type": "stream",
     "text": [
      " 26%|██▌       | 185/713 [14:31<50:42,  5.76s/it]  "
     ]
    },
    {
     "name": "stdout",
     "output_type": "stream",
     "text": [
      "trying again\n"
     ]
    },
    {
     "name": "stderr",
     "output_type": "stream",
     "text": [
      " 32%|███▏      | 227/713 [17:16<22:42,  2.80s/it]  "
     ]
    },
    {
     "name": "stdout",
     "output_type": "stream",
     "text": [
      "trying again\n"
     ]
    },
    {
     "name": "stderr",
     "output_type": "stream",
     "text": [
      " 35%|███▍      | 248/713 [18:56<38:28,  4.96s/it]"
     ]
    },
    {
     "name": "stdout",
     "output_type": "stream",
     "text": [
      "trying again\n"
     ]
    },
    {
     "name": "stderr",
     "output_type": "stream",
     "text": [
      " 35%|███▍      | 249/713 [19:09<53:32,  6.92s/it]"
     ]
    },
    {
     "name": "stdout",
     "output_type": "stream",
     "text": [
      "trying again\n"
     ]
    },
    {
     "name": "stderr",
     "output_type": "stream",
     "text": [
      " 36%|███▌      | 254/713 [19:34<45:10,  5.90s/it]"
     ]
    },
    {
     "name": "stdout",
     "output_type": "stream",
     "text": [
      "trying again\n"
     ]
    },
    {
     "name": "stderr",
     "output_type": "stream",
     "text": [
      " 36%|███▋      | 260/713 [20:09<47:30,  6.29s/it]"
     ]
    },
    {
     "name": "stdout",
     "output_type": "stream",
     "text": [
      "trying again\n"
     ]
    },
    {
     "name": "stderr",
     "output_type": "stream",
     "text": [
      " 37%|███▋      | 263/713 [20:28<47:40,  6.36s/it]"
     ]
    },
    {
     "name": "stdout",
     "output_type": "stream",
     "text": [
      "trying again\n"
     ]
    },
    {
     "name": "stderr",
     "output_type": "stream",
     "text": [
      " 38%|███▊      | 274/713 [21:35<40:14,  5.50s/it]"
     ]
    },
    {
     "name": "stdout",
     "output_type": "stream",
     "text": [
      "trying again\n"
     ]
    },
    {
     "name": "stderr",
     "output_type": "stream",
     "text": [
      " 39%|███▉      | 278/713 [21:59<38:07,  5.26s/it]"
     ]
    },
    {
     "name": "stdout",
     "output_type": "stream",
     "text": [
      "trying again\n",
      "trying again\n"
     ]
    },
    {
     "name": "stderr",
     "output_type": "stream",
     "text": [
      " 41%|████      | 294/713 [22:59<30:00,  4.30s/it]"
     ]
    },
    {
     "name": "stdout",
     "output_type": "stream",
     "text": [
      "trying again\n"
     ]
    },
    {
     "name": "stderr",
     "output_type": "stream",
     "text": [
      " 42%|████▏     | 302/713 [23:18<18:19,  2.68s/it]"
     ]
    },
    {
     "name": "stdout",
     "output_type": "stream",
     "text": [
      "trying again\n"
     ]
    },
    {
     "name": "stderr",
     "output_type": "stream",
     "text": [
      " 42%|████▏     | 303/713 [23:28<26:44,  3.91s/it]"
     ]
    },
    {
     "name": "stdout",
     "output_type": "stream",
     "text": [
      "trying again\n"
     ]
    },
    {
     "name": "stderr",
     "output_type": "stream",
     "text": [
      " 44%|████▍     | 317/713 [24:36<32:28,  4.92s/it]"
     ]
    },
    {
     "name": "stdout",
     "output_type": "stream",
     "text": [
      "trying again\n"
     ]
    },
    {
     "name": "stderr",
     "output_type": "stream",
     "text": [
      " 47%|████▋     | 332/713 [25:37<19:56,  3.14s/it]"
     ]
    },
    {
     "name": "stdout",
     "output_type": "stream",
     "text": [
      "trying again\n"
     ]
    },
    {
     "name": "stderr",
     "output_type": "stream",
     "text": [
      " 52%|█████▏    | 373/713 [29:13<29:36,  5.22s/it]"
     ]
    },
    {
     "name": "stdout",
     "output_type": "stream",
     "text": [
      "trying again\n"
     ]
    },
    {
     "name": "stderr",
     "output_type": "stream",
     "text": [
      " 55%|█████▍    | 389/713 [30:33<21:43,  4.02s/it]"
     ]
    },
    {
     "name": "stdout",
     "output_type": "stream",
     "text": [
      "trying again\n"
     ]
    },
    {
     "name": "stderr",
     "output_type": "stream",
     "text": [
      " 57%|█████▋    | 404/713 [31:18<12:46,  2.48s/it]"
     ]
    },
    {
     "name": "stdout",
     "output_type": "stream",
     "text": [
      "trying again\n"
     ]
    },
    {
     "name": "stderr",
     "output_type": "stream",
     "text": [
      " 57%|█████▋    | 406/713 [31:30<17:23,  3.40s/it]"
     ]
    },
    {
     "name": "stdout",
     "output_type": "stream",
     "text": [
      "trying again\n"
     ]
    },
    {
     "name": "stderr",
     "output_type": "stream",
     "text": [
      " 58%|█████▊    | 412/713 [32:03<25:19,  5.05s/it]"
     ]
    },
    {
     "name": "stdout",
     "output_type": "stream",
     "text": [
      "trying again\n"
     ]
    },
    {
     "name": "stderr",
     "output_type": "stream",
     "text": [
      " 63%|██████▎   | 449/713 [33:44<11:06,  2.52s/it]"
     ]
    },
    {
     "name": "stdout",
     "output_type": "stream",
     "text": [
      "trying again\n"
     ]
    },
    {
     "name": "stderr",
     "output_type": "stream",
     "text": [
      " 64%|██████▍   | 456/713 [34:19<18:55,  4.42s/it]"
     ]
    },
    {
     "name": "stdout",
     "output_type": "stream",
     "text": [
      "trying again\n"
     ]
    },
    {
     "name": "stderr",
     "output_type": "stream",
     "text": [
      " 64%|██████▍   | 457/713 [34:34<29:04,  6.81s/it]"
     ]
    },
    {
     "name": "stdout",
     "output_type": "stream",
     "text": [
      "trying again\n"
     ]
    },
    {
     "name": "stderr",
     "output_type": "stream",
     "text": [
      " 65%|██████▍   | 460/713 [34:47<22:23,  5.31s/it]"
     ]
    },
    {
     "name": "stdout",
     "output_type": "stream",
     "text": [
      "trying again\n"
     ]
    },
    {
     "name": "stderr",
     "output_type": "stream",
     "text": [
      " 67%|██████▋   | 481/713 [35:49<09:05,  2.35s/it]"
     ]
    },
    {
     "name": "stdout",
     "output_type": "stream",
     "text": [
      "trying again\n"
     ]
    },
    {
     "name": "stderr",
     "output_type": "stream",
     "text": [
      " 68%|██████▊   | 482/713 [36:01<14:08,  3.67s/it]"
     ]
    },
    {
     "name": "stdout",
     "output_type": "stream",
     "text": [
      "trying again\n"
     ]
    },
    {
     "name": "stderr",
     "output_type": "stream",
     "text": [
      " 78%|███████▊  | 553/713 [39:29<13:36,  5.10s/it]"
     ]
    },
    {
     "name": "stdout",
     "output_type": "stream",
     "text": [
      "trying again\n"
     ]
    },
    {
     "name": "stderr",
     "output_type": "stream",
     "text": [
      " 79%|███████▉  | 564/713 [40:13<08:31,  3.43s/it]"
     ]
    },
    {
     "name": "stdout",
     "output_type": "stream",
     "text": [
      "trying again\n"
     ]
    },
    {
     "name": "stderr",
     "output_type": "stream",
     "text": [
      " 79%|███████▉  | 565/713 [40:18<09:20,  3.79s/it]"
     ]
    },
    {
     "name": "stdout",
     "output_type": "stream",
     "text": [
      "trying again\n"
     ]
    },
    {
     "name": "stderr",
     "output_type": "stream",
     "text": [
      " 80%|████████  | 571/713 [40:40<08:36,  3.64s/it]"
     ]
    },
    {
     "name": "stdout",
     "output_type": "stream",
     "text": [
      "trying again\n"
     ]
    },
    {
     "name": "stderr",
     "output_type": "stream",
     "text": [
      " 85%|████████▍ | 605/713 [42:23<06:25,  3.57s/it]"
     ]
    },
    {
     "name": "stdout",
     "output_type": "stream",
     "text": [
      "trying again\n"
     ]
    },
    {
     "name": "stderr",
     "output_type": "stream",
     "text": [
      " 85%|████████▌ | 607/713 [42:34<07:22,  4.17s/it]"
     ]
    },
    {
     "name": "stdout",
     "output_type": "stream",
     "text": [
      "trying again\n"
     ]
    },
    {
     "name": "stderr",
     "output_type": "stream",
     "text": [
      " 87%|████████▋ | 619/713 [43:23<07:21,  4.70s/it]"
     ]
    },
    {
     "name": "stdout",
     "output_type": "stream",
     "text": [
      "trying again\n"
     ]
    },
    {
     "name": "stderr",
     "output_type": "stream",
     "text": [
      " 87%|████████▋ | 621/713 [43:29<06:14,  4.08s/it]"
     ]
    },
    {
     "name": "stdout",
     "output_type": "stream",
     "text": [
      "trying again\n",
      "trying again\n",
      "trying again\n"
     ]
    },
    {
     "name": "stderr",
     "output_type": "stream",
     "text": [
      " 88%|████████▊ | 628/713 [44:08<05:56,  4.20s/it]"
     ]
    },
    {
     "name": "stdout",
     "output_type": "stream",
     "text": [
      "trying again\n"
     ]
    },
    {
     "name": "stderr",
     "output_type": "stream",
     "text": [
      " 91%|█████████ | 650/713 [45:00<01:53,  1.81s/it]"
     ]
    },
    {
     "name": "stdout",
     "output_type": "stream",
     "text": [
      "trying again\n"
     ]
    },
    {
     "name": "stderr",
     "output_type": "stream",
     "text": [
      " 96%|█████████▌| 681/713 [46:53<01:40,  3.14s/it]"
     ]
    },
    {
     "name": "stdout",
     "output_type": "stream",
     "text": [
      "trying again\n",
      "trying again\n"
     ]
    },
    {
     "name": "stderr",
     "output_type": "stream",
     "text": [
      "100%|██████████| 713/713 [48:32<00:00,  4.09s/it]\n"
     ]
    }
   ],
   "source": [
    "import time\n",
    "from tqdm import tqdm\n",
    "\n",
    "should_brake = False\n",
    "for submission in tqdm(data):\n",
    "    delay = False\n",
    "    _id = submission[\"id\"]\n",
    "    \n",
    "    if series.get(_id, {}).get(\"base_token\") is not None:\n",
    "        continue\n",
    "\n",
    "    end_time = datetime.now(UTC)\n",
    "    init_time = datetime.fromtimestamp(submission[\"created_utc\"], UTC)\n",
    "    \n",
    "    hashes = parse_hashes_from_submission(submission)\n",
    "    \n",
    "    payload = {}\n",
    "    \n",
    "    for base_token in hashes:\n",
    "        \n",
    "        response = get_candles_poo_coin(base_token, init_time=init_time, end_time=end_time)\n",
    "        if not is_response_valid(response):\n",
    "            time.sleep(5)\n",
    "            print(\"trying again\")\n",
    "            continue\n",
    "            \n",
    "        delay = True\n",
    "        payload[\"series\"] = response\n",
    "        payload[\"base_token\"] = base_token\n",
    "        \n",
    "    series[_id] = payload\n",
    "    \n",
    "    if delay:\n",
    "        time.sleep(5)"
   ]
  },
  {
   "cell_type": "code",
   "execution_count": 9,
   "id": "da577a86-2ee3-461d-804e-c25c692b923f",
   "metadata": {},
   "outputs": [],
   "source": [
    "with open(\"data/series_v3.json\", \"w\") as f:\n",
    "    json.dump(series, f)"
   ]
  },
  {
   "cell_type": "code",
   "execution_count": null,
   "id": "2910032b-3ebe-4e33-b3f4-8454de710db0",
   "metadata": {},
   "outputs": [],
   "source": []
  }
 ],
 "metadata": {
  "kernelspec": {
   "display_name": "Python 3",
   "language": "python",
   "name": "python3"
  },
  "language_info": {
   "codemirror_mode": {
    "name": "ipython",
    "version": 3
   },
   "file_extension": ".py",
   "mimetype": "text/x-python",
   "name": "python",
   "nbconvert_exporter": "python",
   "pygments_lexer": "ipython3",
   "version": "3.8.5"
  }
 },
 "nbformat": 4,
 "nbformat_minor": 5
}
