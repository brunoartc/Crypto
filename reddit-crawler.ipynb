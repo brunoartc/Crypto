{
 "cells": [
  {
   "cell_type": "code",
   "execution_count": 18,
   "id": "c4ef6a6c-8289-4a21-863c-80d20e58e126",
   "metadata": {},
   "outputs": [],
   "source": [
    "import os\n",
    "from tqdm import tqdm\n",
    "from pydantic import BaseSettings\n",
    "\n",
    "class Settings(BaseSettings):\n",
    "    CLIENT_ID: str\n",
    "    CLIENT_SECRET: str\n",
    "\n",
    "    class Config:\n",
    "        env_file = '.env'\n",
    "\n",
    "settings = Settings()"
   ]
  },
  {
   "cell_type": "code",
   "execution_count": 19,
   "id": "741cba03-9107-45d3-aa33-4b0d70398bb5",
   "metadata": {},
   "outputs": [],
   "source": [
    "import praw\n",
    "\n",
    "def extract_comments(submission):\n",
    "    comments = []\n",
    "    for comment in submission.comments:\n",
    "        if isinstance(comment,praw.models.MoreComments):\n",
    "            submission.comments.replace_more()\n",
    "        elif comment.locked:\n",
    "            continue\n",
    "            \n",
    "        comments.append(comment.body)\n",
    "    \n",
    "    replies = [reply.body for comment in submission.comments for reply in comment.replies]\n",
    "    return comments + replies\n",
    "    \n",
    "    \n",
    "reddit = praw.Reddit(\n",
    "    client_id=settings.CLIENT_ID,\n",
    "    client_secret=settings.CLIENT_SECRET,\n",
    "    user_agent=\"USERAGENT\"\n",
    ")"
   ]
  },
  {
   "cell_type": "code",
   "execution_count": 20,
   "id": "6b0e7c08-ca30-413c-b447-67fd4f874ded",
   "metadata": {},
   "outputs": [],
   "source": [
    "subreddit = reddit.subreddit(\"CryptoMoonShots\")"
   ]
  },
  {
   "cell_type": "code",
   "execution_count": 21,
   "id": "68f986e8-af92-41d8-8485-9509c397ee0c",
   "metadata": {},
   "outputs": [
    {
     "name": "stderr",
     "output_type": "stream",
     "text": [
      "715it [01:35,  7.52it/s]\n"
     ]
    }
   ],
   "source": [
    "submissions = []\n",
    "for submission in tqdm(subreddit.hot(limit=1000)):\n",
    "    submissions.append(submission)"
   ]
  },
  {
   "cell_type": "code",
   "execution_count": 22,
   "id": "bbe90cf9-216a-434b-ad58-9dc7252364bd",
   "metadata": {},
   "outputs": [
    {
     "name": "stderr",
     "output_type": "stream",
     "text": [
      "100%|██████████| 715/715 [25:04<00:00,  2.10s/it]  \n"
     ]
    }
   ],
   "source": [
    "corpus = []\n",
    "dead_letter = []\n",
    "for submission in tqdm(submissions):\n",
    "    try:\n",
    "        comments = extract_comments(submission)\n",
    "        corpus.append({\n",
    "            \"id\": submission.id,\n",
    "            \"url\": submission.url,\n",
    "            \"title\": submission.title,\n",
    "            \"text\": submission.selftext,\n",
    "            \"created_utc\": submission.created_utc,\n",
    "            \"num_comments\": submission.num_comments,\n",
    "            \"upvote_ratio\": submission.upvote_ratio,\n",
    "            \"score\": submission.score,\n",
    "            \"is_original_content\": submission.is_original_content,\n",
    "            \"locked\": submission.locked,\n",
    "            \"stickied\": submission.stickied,\n",
    "            \"comments\": comments\n",
    "        })\n",
    "    except Exception as e:\n",
    "        dead_letter.append(submission)\n",
    "        "
   ]
  },
  {
   "cell_type": "code",
   "execution_count": 23,
   "id": "d701cfb0-c1c4-4d29-9d4a-d79027ba96aa",
   "metadata": {},
   "outputs": [],
   "source": [
    "import json\n",
    "os.makedirs(\"data\", exist_ok=True)\n",
    "\n",
    "with open(\"data/corpus_v2.json\", \"w\") as f:\n",
    "    json.dump(corpus, f)"
   ]
  },
  {
   "cell_type": "code",
   "execution_count": null,
   "id": "0702ab8e-26fb-4c89-bc29-089400ca57bd",
   "metadata": {},
   "outputs": [],
   "source": []
  }
 ],
 "metadata": {
  "kernelspec": {
   "display_name": "Python 3",
   "language": "python",
   "name": "python3"
  },
  "language_info": {
   "codemirror_mode": {
    "name": "ipython",
    "version": 3
   },
   "file_extension": ".py",
   "mimetype": "text/x-python",
   "name": "python",
   "nbconvert_exporter": "python",
   "pygments_lexer": "ipython3",
   "version": "3.8.5"
  }
 },
 "nbformat": 4,
 "nbformat_minor": 5
}
